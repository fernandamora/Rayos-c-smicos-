{
 "cells": [
  {
   "cell_type": "code",
   "execution_count": 1,
   "metadata": {},
   "outputs": [],
   "source": [
    "import numpy as np\n",
    "import cv2\n",
    "import matplotlib.pyplot as plt\n",
    "from PIL import ImageEnhance, Image"
   ]
  },
  {
   "cell_type": "code",
   "execution_count": 5,
   "metadata": {},
   "outputs": [],
   "source": [
    "img = cv2.imread(\"./Imagenes/7.jpg\")\n",
    "gray = cv2.cvtColor(img, cv2.COLOR_BGR2GRAY)\n",
    "ret, thresh = cv2.threshold(gray, 240, 255, cv2.THRESH_BINARY_INV + cv2.THRESH_OTSU)"
   ]
  },
  {
   "cell_type": "code",
   "execution_count": 35,
   "metadata": {},
   "outputs": [],
   "source": [
    "# noise removal\n",
    "kernel = np.ones((3,3),np.uint8)/9\n",
    "opening = cv2.morphologyEx(thresh,cv2.MORPH_BLACKHAT,kernel, iterations = 2)\n",
    "# sure background area\n",
    "sure_bg = cv2.dilate(opening,kernel,iterations=3)\n",
    "# Finding sure foreground area\n",
    "dist_transform = cv2.distanceTransform(opening,cv2.DIST_L2,5)\n",
    "ret, sure_fg = cv2.threshold(dist_transform,0.2*dist_transform.max(),255,0)\n",
    "# Finding unknown region\n",
    "sure_fg = np.uint8(sure_fg)\n",
    "unknown = cv2.subtract(sure_bg,sure_fg)\n",
    "\n",
    "# Marker labelling\n",
    "ret, markers = cv2.connectedComponents(sure_fg)\n",
    "# Add one to all labels so that sure background is not 0, but 1\n",
    "markers = markers+1\n",
    "# Now, mark the region of unknown with zero\n",
    "markers[unknown==255] = 0\n",
    "markers = cv2.watershed(img, markers)\n",
    "img[markers == -1] = [0, 0, 255]\n",
    "cv2.imshow(\"img\", cv2.resize(img, (900,700)))\n",
    "cv2.waitKey(0)\n",
    "cv2.destroyAllWindows()\n"
   ]
  },
  {
   "cell_type": "code",
   "execution_count": 4,
   "metadata": {},
   "outputs": [],
   "source": [
    "kernel = np.ones((3, 3), np.uint8)/9\n",
    "closing = cv2.morphologyEx(thresh, cv2.MORPH_CLOSE, \n",
    "                            kernel, iterations = 2) \n",
    "  \n",
    "bg = cv2.dilate(closing, kernel, iterations = 1) \n",
    "  \n",
    "dist_transform = cv2.distanceTransform(closing, cv2.DIST_L2, 0) \n",
    "ret, fg = cv2.threshold(dist_transform, 0.0002\n",
    "                        * dist_transform.max(), 255, 0) \n",
    "cv2.imshow(\"img\", cv2.resize(fg, (900,700)))\n",
    "cv2.waitKey(0)\n",
    "cv2.destroyAllWindows()"
   ]
  },
  {
   "cell_type": "markdown",
   "metadata": {},
   "source": [
    "# Código que funciona re bien"
   ]
  },
  {
   "cell_type": "code",
   "execution_count": 62,
   "metadata": {},
   "outputs": [
    {
     "data": {
      "text/plain": [
       "24253"
      ]
     },
     "execution_count": 62,
     "metadata": {},
     "output_type": "execute_result"
    }
   ],
   "source": [
    "img2 = cv2.imread(\"./Imagenes/51.jpg\")\n",
    "grises = cv2.cvtColor(img2, cv2.COLOR_BGR2GRAY)\n",
    "_,th =  cv2.threshold(grises, 120, 255, cv2.THRESH_BINARY)\n",
    "\n",
    "cnts,_ = cv2.findContours(th, cv2.RETR_EXTERNAL,cv2.CHAIN_APPROX_NONE) \n",
    "contornos = cv2.drawContours(img2, cnts, -1, (255,0,0),2)\n",
    "cv2.imshow(\"img\", cv2.resize(contornos, (700,800)))\n",
    "cv2.waitKey(0)\n",
    "cv2.destroyAllWindows()\n",
    "len(cnts)\n"
   ]
  },
  {
   "cell_type": "code",
   "execution_count": 127,
   "metadata": {},
   "outputs": [
    {
     "data": {
      "text/plain": [
       "128"
      ]
     },
     "execution_count": 127,
     "metadata": {},
     "output_type": "execute_result"
    }
   ],
   "source": [
    "img2 = cv2.imread(\"./Imagenes/Ps1.png\")[480:1500]\n",
    "grises = cv2.cvtColor(img2, cv2.COLOR_BGR2GRAY)\n",
    "_,th =  cv2.threshold(grises, 70, 255, cv2.THRESH_BINARY)\n",
    "\n",
    "cnts,_ = cv2.findContours(th, cv2.RETR_EXTERNAL,cv2.CHAIN_APPROX_NONE) \n",
    "contornos = cv2.drawContours(img2, cnts, -1, (255,0,0),2)\n",
    "cv2.imshow(\"img\", cv2.resize(contornos, (500, 700)))\n",
    "cv2.waitKey(0)\n",
    "cv2.destroyAllWindows()\n",
    "len(cnts)"
   ]
  },
  {
   "cell_type": "markdown",
   "metadata": {},
   "source": [
    "## Selección de contornos super duper buena"
   ]
  },
  {
   "cell_type": "markdown",
   "metadata": {},
   "source": [
    "### Imagenes sin editar"
   ]
  },
  {
   "cell_type": "code",
   "execution_count": 91,
   "metadata": {},
   "outputs": [
    {
     "data": {
      "text/plain": [
       "3"
      ]
     },
     "execution_count": 91,
     "metadata": {},
     "output_type": "execute_result"
    }
   ],
   "source": [
    "img2 = cv2.imread(\"./Imagenes/Ps4.png\")[480:1500] # Importa la imagen\n",
    "th = cv2.cvtColor(img2, cv2.COLOR_BGR2GRAY) # Convierte a escala de grises\n",
    "_,th =  cv2.threshold(th, 70, 255, cv2.THRESH_BINARY)\n",
    "cv2.imshow(\"img\", cv2.resize(th, (500, 700)))\n",
    "\n",
    "bkg = cv2.imread(\"./Imagenes/bkg.png\")[480:1500]\n",
    "bkg = cv2.cvtColor(bkg, cv2.COLOR_BGR2GRAY)\n",
    "_,bkg =  cv2.threshold(bkg, 30, 255, cv2.THRESH_BINARY)\n",
    "\n",
    "trace = cv2.subtract(th,bkg) # Se quita el fondo de la imagen para disminuir ruido\n",
    "\n",
    "cnts,_ = cv2.findContours(trace, cv2.RETR_EXTERNAL,cv2.CHAIN_APPROX_NONE) # Halla los contornos externos\n",
    "CNTS = ()\n",
    "for i in range(0, len(cnts)): # Quita algunos de los contornos pequeños que corresponden a ruido\n",
    "    if cnts[i].shape[0] > 60:\n",
    "        CNTS += (cnts[i], )\n",
    "\n",
    "contornos = cv2.drawContours(img2, CNTS, -1, (0,0,255),2) # Dibuja los contornos\n",
    "contornos = cv2.putText(contornos, \"Particulas (aprox): {}\".format(len(CNTS)), (50,70), cv2.FONT_HERSHEY_DUPLEX, 1.4, (200,82,100), 5)\n",
    "cv2.imshow(\"img\", cv2.resize(contornos, (500, 700)))\n",
    "\n",
    "cv2.waitKey(0)\n",
    "cv2.destroyAllWindows()\n",
    "len(CNTS)"
   ]
  },
  {
   "cell_type": "markdown",
   "metadata": {},
   "source": [
    "### Imagenes con edicion en programa externo"
   ]
  },
  {
   "cell_type": "code",
   "execution_count": 92,
   "metadata": {},
   "outputs": [
    {
     "data": {
      "text/plain": [
       "6"
      ]
     },
     "execution_count": 92,
     "metadata": {},
     "output_type": "execute_result"
    }
   ],
   "source": [
    "img2 = cv2.imread(\"./Imagenes/Ps4_v2.jpeg\")[480:1500] # Importa la imagen\n",
    "th = cv2.cvtColor(img2, cv2.COLOR_BGR2GRAY) # Convierte a escala de grises\n",
    "_,th =  cv2.threshold(th, 70, 255, cv2.THRESH_BINARY)\n",
    "cv2.imshow(\"img\", cv2.resize(th, (500, 700)))\n",
    "\n",
    "bkg = cv2.imread(\"./Imagenes/bkg_v2.jpg\")[480:1500]\n",
    "bkg = cv2.cvtColor(bkg, cv2.COLOR_BGR2GRAY)\n",
    "_,bkg =  cv2.threshold(bkg, 5, 255, cv2.THRESH_BINARY)\n",
    "\n",
    "trace = cv2.subtract(th,bkg) # Se quita el fondo de la imagen para disminuir ruido\n",
    "\n",
    "cnts,_ = cv2.findContours(trace, cv2.RETR_EXTERNAL,cv2.CHAIN_APPROX_NONE) # Halla los contornos externos\n",
    "CNTS = ()\n",
    "for i in range(0, len(cnts)): # Quita algunos de los contornos pequeños que corresponden a ruido\n",
    "    if cnts[i].shape[0] > 60:\n",
    "        CNTS += (cnts[i], )\n",
    "\n",
    "contornos = cv2.drawContours(img2, CNTS, -1, (0,0,255),2) # Dibuja los contornos\n",
    "cv2.imshow(\"img\", cv2.resize(contornos, (500, 700)))\n",
    "\n",
    "cv2.waitKey(0)\n",
    "cv2.destroyAllWindows()\n",
    "len(CNTS)"
   ]
  },
  {
   "cell_type": "markdown",
   "metadata": {},
   "source": [
    "### Imagenes con edición en python"
   ]
  },
  {
   "cell_type": "code",
   "execution_count": 74,
   "metadata": {},
   "outputs": [],
   "source": [
    "imgO = cv2.imread(\"./Imagenes/Ps9.png\")[480:1500] # Importa la imagen\n",
    "img3 = cv2.cvtColor(imgO, cv2.COLOR_BGR2GRAY) #Convierte a RGB\n",
    "#img3 = cv2.cvtColor(img3, cv2.COLOR_RGB2GRAY) #Convierte a grises\n",
    "img3 = Image.fromarray(img3) #Convierte a imagen de PIL\n",
    "\n",
    "img3 = ImageEnhance.Brightness(img3).enhance(0.34)\n",
    "img3 = ImageEnhance.Contrast(img3).enhance(4)\n",
    "img3 = ImageEnhance.Sharpness(img3).enhance(4)\n",
    "img3 = np.array(img3)\n",
    "\n",
    "\n",
    "bkg = cv2.imread(\"./Imagenes/bkg.png\")[480:1500] # Importa la imagen\n",
    "bkg = cv2.cvtColor(bkg, cv2.COLOR_BGR2RGB) #Convierte a RGB\n",
    "bkg = cv2.cvtColor(bkg, cv2.COLOR_RGB2GRAY) #Convierte a grises\n",
    "\n",
    "bkg = Image.fromarray(bkg) #Convierte a imagen de PIL\n",
    "\n",
    "bkg = ImageEnhance.Brightness(bkg).enhance(0.34)\n",
    "bkg = ImageEnhance.Contrast(bkg).enhance(5)\n",
    "bkg = ImageEnhance.Sharpness(bkg).enhance(2)\n",
    "bkg = np.array(bkg)\n",
    "\n",
    "_,th =  cv2.threshold(img3, 30, 255, cv2.THRESH_BINARY)\n",
    "_,bkg =  cv2.threshold(bkg, 10, 255, cv2.THRESH_BINARY)\n",
    "\n",
    "trace = cv2.subtract(th,bkg) # Se quita el fondo de la imagen para disminuir ruido\n",
    "\n",
    "cnts,_ = cv2.findContours(trace, cv2.RETR_EXTERNAL,cv2.CHAIN_APPROX_NONE) # Halla los contornos externos\n",
    "CNTS = ()\n",
    "for i in range(0, len(cnts)): # Quita algunos de los contornos pequeños que corresponden a ruido\n",
    "    if cnts[i].shape[0] > 70:\n",
    "        CNTS += (cnts[i], )\n",
    "\n",
    "contornos = cv2.drawContours(imgO, CNTS, -1, (0,0,255),2) # Dibuja los contornos\n",
    "contornos = cv2.putText(contornos, \"Particulas (aprox): {}\".format(len(CNTS)), (50,70), cv2.FONT_HERSHEY_DUPLEX, 1.4, (200,82,100), 5)\n",
    "\n",
    "cv2.imshow(\"img\", cv2.resize(contornos, (500, 700)))\n",
    "cv2.waitKey(0)\n",
    "cv2.destroyAllWindows()"
   ]
  },
  {
   "cell_type": "code",
   "execution_count": null,
   "metadata": {},
   "outputs": [],
   "source": []
  }
 ],
 "metadata": {
  "kernelspec": {
   "display_name": "Python 3.10.6 ('VENV': venv)",
   "language": "python",
   "name": "python3"
  },
  "language_info": {
   "codemirror_mode": {
    "name": "ipython",
    "version": 3
   },
   "file_extension": ".py",
   "mimetype": "text/x-python",
   "name": "python",
   "nbconvert_exporter": "python",
   "pygments_lexer": "ipython3",
   "version": "3.10.6"
  },
  "orig_nbformat": 4,
  "vscode": {
   "interpreter": {
    "hash": "b8ea4b2cc1bbcf9df46e2b8694d1e0a455ac0f0975c5d44bd4121d7fda6aae02"
   }
  }
 },
 "nbformat": 4,
 "nbformat_minor": 2
}
