{
 "cells": [
  {
   "cell_type": "code",
   "execution_count": 1,
   "metadata": {},
   "outputs": [],
   "source": [
    "import numpy as np\n",
    "import cv2\n",
    "import matplotlib.pyplot as plt"
   ]
  },
  {
   "cell_type": "code",
   "execution_count": 5,
   "metadata": {},
   "outputs": [],
   "source": [
    "img = cv2.imread(\"./Imagenes/7.jpg\")\n",
    "gray = cv2.cvtColor(img, cv2.COLOR_BGR2GRAY)\n",
    "ret, thresh = cv2.threshold(gray, 240, 255, cv2.THRESH_BINARY_INV + cv2.THRESH_OTSU)"
   ]
  },
  {
   "cell_type": "code",
   "execution_count": 35,
   "metadata": {},
   "outputs": [],
   "source": [
    "# noise removal\n",
    "kernel = np.ones((3,3),np.uint8)/9\n",
    "opening = cv2.morphologyEx(thresh,cv2.MORPH_BLACKHAT,kernel, iterations = 2)\n",
    "# sure background area\n",
    "sure_bg = cv2.dilate(opening,kernel,iterations=3)\n",
    "# Finding sure foreground area\n",
    "dist_transform = cv2.distanceTransform(opening,cv2.DIST_L2,5)\n",
    "ret, sure_fg = cv2.threshold(dist_transform,0.2*dist_transform.max(),255,0)\n",
    "# Finding unknown region\n",
    "sure_fg = np.uint8(sure_fg)\n",
    "unknown = cv2.subtract(sure_bg,sure_fg)\n",
    "\n",
    "# Marker labelling\n",
    "ret, markers = cv2.connectedComponents(sure_fg)\n",
    "# Add one to all labels so that sure background is not 0, but 1\n",
    "markers = markers+1\n",
    "# Now, mark the region of unknown with zero\n",
    "markers[unknown==255] = 0\n",
    "markers = cv2.watershed(img, markers)\n",
    "img[markers == -1] = [0, 0, 255]\n",
    "cv2.imshow(\"img\", cv2.resize(img, (900,700)))\n",
    "cv2.waitKey(0)\n",
    "cv2.destroyAllWindows()\n"
   ]
  },
  {
   "cell_type": "code",
   "execution_count": 4,
   "metadata": {},
   "outputs": [],
   "source": [
    "kernel = np.ones((3, 3), np.uint8)/9\n",
    "closing = cv2.morphologyEx(thresh, cv2.MORPH_CLOSE, \n",
    "                            kernel, iterations = 2) \n",
    "  \n",
    "bg = cv2.dilate(closing, kernel, iterations = 1) \n",
    "  \n",
    "dist_transform = cv2.distanceTransform(closing, cv2.DIST_L2, 0) \n",
    "ret, fg = cv2.threshold(dist_transform, 0.0002\n",
    "                        * dist_transform.max(), 255, 0) \n",
    "cv2.imshow(\"img\", cv2.resize(fg, (900,700)))\n",
    "cv2.waitKey(0)\n",
    "cv2.destroyAllWindows()"
   ]
  },
  {
   "cell_type": "markdown",
   "metadata": {},
   "source": [
    "Código que funciona re bien"
   ]
  },
  {
   "cell_type": "code",
   "execution_count": 62,
   "metadata": {},
   "outputs": [
    {
     "data": {
      "text/plain": [
       "24253"
      ]
     },
     "execution_count": 62,
     "metadata": {},
     "output_type": "execute_result"
    }
   ],
   "source": [
    "img2 = cv2.imread(\"./Imagenes/51.jpg\")\n",
    "grises = cv2.cvtColor(img2, cv2.COLOR_BGR2GRAY)\n",
    "_,th =  cv2.threshold(grises, 120, 255, cv2.THRESH_BINARY)\n",
    "\n",
    "cnts,_ = cv2.findContours(th, cv2.RETR_EXTERNAL,cv2.CHAIN_APPROX_NONE) \n",
    "contornos = cv2.drawContours(img2, cnts, -1, (255,0,0),2)\n",
    "cv2.imshow(\"img\", cv2.resize(contornos, (900,700)))\n",
    "cv2.waitKey(0)\n",
    "cv2.destroyAllWindows()\n",
    "len(cnts)\n"
   ]
  },
  {
   "cell_type": "code",
   "execution_count": null,
   "metadata": {},
   "outputs": [],
   "source": []
  }
 ],
 "metadata": {
  "kernelspec": {
   "display_name": "Python 3.10.6 ('VENV': venv)",
   "language": "python",
   "name": "python3"
  },
  "language_info": {
   "codemirror_mode": {
    "name": "ipython",
    "version": 3
   },
   "file_extension": ".py",
   "mimetype": "text/x-python",
   "name": "python",
   "nbconvert_exporter": "python",
   "pygments_lexer": "ipython3",
   "version": "3.10.6"
  },
  "orig_nbformat": 4,
  "vscode": {
   "interpreter": {
    "hash": "b8ea4b2cc1bbcf9df46e2b8694d1e0a455ac0f0975c5d44bd4121d7fda6aae02"
   }
  }
 },
 "nbformat": 4,
 "nbformat_minor": 2
}
